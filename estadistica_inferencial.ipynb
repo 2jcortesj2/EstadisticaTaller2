{
 "cells": [
  {
   "cell_type": "code",
   "execution_count": 3,
   "metadata": {},
   "outputs": [
    {
     "name": "stdout",
     "output_type": "stream",
     "text": [
      "Valor de la estadística D: 0.11109627405952971\n",
      "Valor p: 0.15702745745235358\n",
      "No rechazamos la hipótesis nula: Los datos siguen una distribución normal.\n"
     ]
    }
   ],
   "source": [
    "import numpy as np\n",
    "from scipy import stats\n",
    "\n",
    "# Generamos una muestra de datos (en este caso, datos aleatorios de una distribución normal)\n",
    "datos = np.random.normal(0, 1, 100)\n",
    "\n",
    "# Realizamos la prueba de Kolmogorov-Smirnov para comparar con una distribución normal\n",
    "resultado = stats.kstest(datos, 'norm')\n",
    "\n",
    "# Imprimimos los resultados\n",
    "print(\"Valor de la estadística D:\", resultado.statistic)\n",
    "print(\"Valor p:\", resultado.pvalue)\n",
    "\n",
    "# Comprobamos si rechazamos la hipótesis nula (que los datos siguen una distribución normal)\n",
    "nivel_de_significancia = 0.05\n",
    "if resultado.pvalue < nivel_de_significancia:\n",
    "    print(\"Rechazamos la hipótesis nula: Los datos no siguen una distribución normal.\")\n",
    "else:\n",
    "    print(\"No rechazamos la hipótesis nula: Los datos siguen una distribución normal.\")\n"
   ]
  },
  {
   "cell_type": "code",
   "execution_count": 3,
   "metadata": {},
   "outputs": [
    {
     "name": "stdout",
     "output_type": "stream",
     "text": [
      "Estadística D: 0.1\n",
      "Valor p: 0.7020569828664881\n",
      "No hay suficiente evidencia para rechazar la hipótesis nula.\n"
     ]
    }
   ],
   "source": [
    "import numpy as np\n",
    "from scipy.stats import ks_2samp\n",
    "\n",
    "# Generar dos conjuntos de datos (en este caso, distribuciones normales)\n",
    "datos1 = np.random.normal(0, 1, 100)\n",
    "datos2 = np.random.normal(0, 1, 100)\n",
    "\n",
    "# Aplicar la prueba de Kolmogorov-Smirnov\n",
    "estadistica_KS, valor_p = ks_2samp(datos1, datos2)\n",
    "\n",
    "# Imprimir los resultados\n",
    "print(f\"Estadística D: {estadistica_KS}\")\n",
    "print(f\"Valor p: {valor_p}\")\n",
    "\n",
    "# Interpretar los resultados\n",
    "if valor_p > 0.05:\n",
    "    print(\"No hay suficiente evidencia para rechazar la hipótesis nula.\")\n",
    "else:\n",
    "    print(\"Se rechaza la hipótesis nula, lo que sugiere que los datos no provienen de la misma distribución.\")\n"
   ]
  }
 ],
 "metadata": {
  "kernelspec": {
   "display_name": "Python 3",
   "language": "python",
   "name": "python3"
  },
  "language_info": {
   "codemirror_mode": {
    "name": "ipython",
    "version": 3
   },
   "file_extension": ".py",
   "mimetype": "text/x-python",
   "name": "python",
   "nbconvert_exporter": "python",
   "pygments_lexer": "ipython3",
   "version": "3.12.0"
  },
  "orig_nbformat": 4
 },
 "nbformat": 4,
 "nbformat_minor": 2
}
